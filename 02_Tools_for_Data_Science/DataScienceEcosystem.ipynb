{
 "cells": [
  {
   "cell_type": "markdown",
   "id": "42665bd2-9cb0-4104-9ff6-7daf51de69df",
   "metadata": {},
   "source": [
    "<h1>Data Science Tools and Ecosystem</h1>"
   ]
  },
  {
   "cell_type": "markdown",
   "id": "31f14ed9-fb18-4df6-bd30-05afc945af3e",
   "metadata": {
    "tags": []
   },
   "source": [
    "This notebook summarizes the various tools used in Data Science and provides insights into its ecosystem."
   ]
  },
  {
   "cell_type": "markdown",
   "id": "01a177b8-7f71-445d-9516-d05f783dbbf6",
   "metadata": {},
   "source": [
    "<h3> Some commonly used languages in Data Science are:</h3> \n",
    "1. Python <br>\n",
    "2. R <br>\n",
    "3. SQL <br>\n",
    "4. Scala <br>\n",
    "5. Julia <br>\n",
    "6. JavaScript <br>\n",
    "7. Java <br>\n",
    "8. C/C++ "
   ]
  },
  {
   "cell_type": "markdown",
   "id": "fe823397-3439-48c3-9f92-13715d340e1d",
   "metadata": {},
   "source": [
    "<h3> Some commonly used libraries in Data Science are:</h3>\n",
    "1. NumPy <br>\n",
    "2. Sci-kit Learn <br>\n",
    "3. Pandas <br>\n",
    "4. Tensor Flow <br>\n",
    "5. Matplotlib <br>"
   ]
  },
  {
   "cell_type": "markdown",
   "id": "f9d86c98-1e84-45f7-83ec-e409021625e8",
   "metadata": {},
   "source": [
    "| Data Science Tools |\n",
    "|:--------:|\n",
    "|  Jupyter Notebook   |  \n",
    "|  Zeppelin Notebook|  \n",
    "|  RStudio   |  \n"
   ]
  },
  {
   "cell_type": "markdown",
   "id": "04b3fc32-da31-42c0-bca9-d8e4233620e5",
   "metadata": {
    "tags": []
   },
   "source": [
    "<h3> Here are some examples of evaluating arithmetic expressions in Python: </h3>"
   ]
  },
  {
   "cell_type": "markdown",
   "id": "c31e6ff3-503b-4931-a115-a499e8a1f0af",
   "metadata": {},
   "source": [
    "An expression first performing multilpication operation and then addition"
   ]
  },
  {
   "cell_type": "code",
   "execution_count": 4,
   "id": "e7c132c3-67ab-4b3d-9c46-ef99965c75f8",
   "metadata": {
    "tags": []
   },
   "outputs": [
    {
     "data": {
      "text/plain": [
       "17"
      ]
     },
     "execution_count": 4,
     "metadata": {},
     "output_type": "execute_result"
    }
   ],
   "source": [
    "(3*4)+5"
   ]
  },
  {
   "cell_type": "markdown",
   "id": "67797658-337c-4e4b-8b0a-a5486285350a",
   "metadata": {},
   "source": [
    "Converting minutes to hours"
   ]
  },
  {
   "cell_type": "code",
   "execution_count": 7,
   "id": "adb3a773-8912-4d74-96d1-e46da23f9eac",
   "metadata": {
    "tags": []
   },
   "outputs": [
    {
     "data": {
      "text/plain": [
       "3.3333333333333335"
      ]
     },
     "execution_count": 7,
     "metadata": {},
     "output_type": "execute_result"
    }
   ],
   "source": [
    "200/60 "
   ]
  },
  {
   "cell_type": "markdown",
   "id": "5ae65c45-82c0-49b0-b6b6-1155582d7934",
   "metadata": {
    "tags": []
   },
   "source": [
    "<h3>Objectives</h3> \n",
    "<ul>\n",
    "    <li>Creating a Jupyter Notebook</li>\n",
    "    <li>Listing examples of languages, libraries, and tools used in Data Science</li>\n",
    "    <li> Sharing the Jupyter Notebook publicly on GitHub</li>\n",
    "    <li> Evaluating notebooks submitted by peers </li>\n",
    "    <li> Demonstrating proficiency in Data Science toolkit knowledge </li>\n",
    "</ul>"
   ]
  },
  {
   "cell_type": "markdown",
   "id": "f037ed2b-3074-4c2b-9f77-4f2ffcd9fb8d",
   "metadata": {},
   "source": [
    "<h2> Author </h2>\n",
    "Bhupinder Singh Metneja"
   ]
  }
 ],
 "metadata": {
  "kernelspec": {
   "display_name": "Python",
   "language": "python",
   "name": "conda-env-python-py"
  },
  "language_info": {
   "codemirror_mode": {
    "name": "ipython",
    "version": 3
   },
   "file_extension": ".py",
   "mimetype": "text/x-python",
   "name": "python",
   "nbconvert_exporter": "python",
   "pygments_lexer": "ipython3",
   "version": "3.7.12"
  }
 },
 "nbformat": 4,
 "nbformat_minor": 5
}
